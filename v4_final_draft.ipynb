{
 "cells": [
  {
   "cell_type": "code",
   "execution_count": 1,
   "id": "cd488487",
   "metadata": {},
   "outputs": [
    {
     "data": {
      "application/javascript": [
       "\n",
       "try {\n",
       "require(['notebook/js/codecell'], function(codecell) {\n",
       "  codecell.CodeCell.options_default.highlight_modes[\n",
       "      'magic_text/x-csrc'] = {'reg':[/^%%microblaze/]};\n",
       "  Jupyter.notebook.events.one('kernel_ready.Kernel', function(){\n",
       "      Jupyter.notebook.get_cells().map(function(cell){\n",
       "          if (cell.cell_type == 'code'){ cell.auto_highlight(); } }) ;\n",
       "  });\n",
       "});\n",
       "} catch (e) {};\n"
      ]
     },
     "metadata": {},
     "output_type": "display_data"
    },
    {
     "data": {
      "application/javascript": [
       "\n",
       "try {\n",
       "require(['notebook/js/codecell'], function(codecell) {\n",
       "  codecell.CodeCell.options_default.highlight_modes[\n",
       "      'magic_text/x-csrc'] = {'reg':[/^%%pybind11/]};\n",
       "  Jupyter.notebook.events.one('kernel_ready.Kernel', function(){\n",
       "      Jupyter.notebook.get_cells().map(function(cell){\n",
       "          if (cell.cell_type == 'code'){ cell.auto_highlight(); } }) ;\n",
       "  });\n",
       "});\n",
       "} catch (e) {};\n"
      ]
     },
     "metadata": {},
     "output_type": "display_data"
    }
   ],
   "source": [
    "from pynq import Overlay\n",
    "from pynq import GPIO\n",
    "from time import sleep\n",
    "overlay = Overlay(\"./npxl_v4.bit\") # //path/to/the/binary/file\n",
    "sleep(1.5)"
   ]
  },
  {
   "cell_type": "code",
   "execution_count": 2,
   "id": "28827d40",
   "metadata": {},
   "outputs": [],
   "source": [
    "##Initializing the GPIOs\n",
    "\n",
    "\n",
    "#Toggling the refresh_led to refresh the process\n",
    "\n",
    "refresh_led=GPIO(GPIO.get_gpio_pin(11),'out')\n",
    "def refresh():\n",
    "    refresh_led.write(1)\n",
    "    refresh_led.write(0)\n",
    "    refresh_led.write(1)\n",
    "#X_Gpio_Enable  Naming scheme for pins\n",
    "\n",
    "data_g = [0] * 8\n",
    "\n",
    "\n",
    "green_g_e = GPIO(GPIO.get_gpio_pin(9),'out')\n",
    "red_g_e = GPIO(GPIO.get_gpio_pin(8),'out')\n",
    "blue_g_e = GPIO(GPIO.get_gpio_pin(10),'out')\n",
    "\n",
    "\n",
    "def red_read():\n",
    "    red_g_e.write(1)\n",
    "    red_g_e.write(0)\n",
    "    red_g_e.write(1)\n",
    "    red_g_e.write(0)\n",
    "\n",
    "    \n",
    "    \n",
    "    \n",
    "def green_read():\n",
    "    green_g_e.write(1)\n",
    "    green_g_e.write(0)\n",
    "    green_g_e.write(1)\n",
    "    green_g_e.write(0)\n",
    "    \n",
    "    \n",
    "def blue_read():\n",
    "    blue_g_e.write(1)\n",
    "    blue_g_e.write(0)\n",
    "    blue_g_e.write(1)\n",
    "    blue_g_e.write(0)\n",
    "\n",
    "    \n",
    "    \n",
    "\n",
    "# for i in range(24):\n",
    "#     color[i]=GPIO(GPIO.get_gpio_pin(i),'out')\n",
    "\n",
    "for i in range(8):\n",
    "    data_g[i] = GPIO(GPIO.get_gpio_pin(i),'out')\n",
    "\n",
    "sleep(0.5)"
   ]
  },
  {
   "cell_type": "code",
   "execution_count": null,
   "id": "7bc1f496",
   "metadata": {},
   "outputs": [],
   "source": []
  },
  {
   "cell_type": "code",
   "execution_count": 3,
   "id": "0644e0cf",
   "metadata": {},
   "outputs": [],
   "source": [
    "\n",
    "################################################\n",
    "\n",
    "\n",
    "#The WS2812b Accepts control signal in the form of G R B Lighting format\n",
    "\n",
    "\n",
    "###################################################\n",
    "\n",
    "\n",
    "def color_func_new1(hex):    # hex value x'01=b'0000 0001\n",
    "\n",
    "    if len(hex)!=6:\n",
    "        print(\"Color Input Format : XXXXXX Hex value\")\n",
    "        return\n",
    "    else:\n",
    "        hex_n=hex\n",
    "        red_b=format(int(hex_n[:2], 16), \"08b\")\n",
    "        green_b=format(int(hex_n[2:4], 16), \"08b\")\n",
    "        blue_b=format(int(hex_n[4:6], 16), \"08b\")\n",
    "        \n",
    "        \n",
    "        \n",
    "        rgb_flag=0\n",
    "        index = [*range(8)]\n",
    "\n",
    "\n",
    "        for rgb in (red_b,green_b,blue_b):\n",
    "            rgb_flag+=1\n",
    "            for val,index_v in zip(rgb,index):\n",
    "                data_g[index_v].write(int(val)) \n",
    "\n",
    "            green_read() if rgb_flag==1 else red_read() if rgb_flag==2 else blue_read()\n",
    "            \n",
    "            \n",
    "        rgb_flag=0    \n",
    "        refresh()\n",
    "        return\n",
    "\n",
    "\n",
    "def color_func_new2(hex):      # hex value  x'01=b'0001 0000\n",
    "\n",
    "    if len(hex)!=6:\n",
    "        print(\"Color Input Format : XXXXXX Hex value\")\n",
    "        return\n",
    "    else:\n",
    "        hex_n=hex[::-1]\n",
    "        blue_b=format(int(hex_n[:2], 16), \"08b\")\n",
    "        green_b=format(int(hex_n[2:4], 16), \"08b\")\n",
    "        red_b=format(int(hex_n[4:6], 16), \"08b\")\n",
    "\n",
    "        rgb_flag=0\n",
    "        index = [*range(8)]\n",
    "\n",
    "        \n",
    "        for rgb in (red_b,green_b,blue_b):\n",
    "            rgb_flag+=1\n",
    "            \n",
    "            for val,index_v in zip(rgb,index):\n",
    "                data_g[index_v].write(int(val))\n",
    "\n",
    "            green_read() if rgb_flag==1 else red_read() if rgb_flag==2 else blue_read()\n",
    "            \n",
    "            \n",
    "        rgb_flag=0    \n",
    "        refresh()\n",
    "        return\n",
    "sleep(0.5)"
   ]
  },
  {
   "cell_type": "code",
   "execution_count": null,
   "id": "bd5cff9c",
   "metadata": {},
   "outputs": [],
   "source": []
  },
  {
   "cell_type": "code",
   "execution_count": 4,
   "id": "5a9d630d",
   "metadata": {},
   "outputs": [],
   "source": [
    "c_val=\"01011\""
   ]
  },
  {
   "cell_type": "code",
   "execution_count": 5,
   "id": "18f0137e",
   "metadata": {},
   "outputs": [
    {
     "name": "stdout",
     "output_type": "stream",
     "text": [
      "Color Input Format : XXXXXX Hex value\n"
     ]
    }
   ],
   "source": [
    "color_func_new1(c_val)"
   ]
  },
  {
   "cell_type": "code",
   "execution_count": null,
   "id": "776c9f70",
   "metadata": {},
   "outputs": [],
   "source": []
  },
  {
   "cell_type": "code",
   "execution_count": 6,
   "id": "bbffa3b3",
   "metadata": {},
   "outputs": [],
   "source": [
    "sleep(0.5)"
   ]
  },
  {
   "cell_type": "code",
   "execution_count": 7,
   "id": "17a89909",
   "metadata": {},
   "outputs": [],
   "source": [
    "c_val=\"000f0f\""
   ]
  },
  {
   "cell_type": "code",
   "execution_count": 8,
   "id": "56291c2a",
   "metadata": {},
   "outputs": [],
   "source": [
    "color_func_new1(c_val)"
   ]
  },
  {
   "cell_type": "code",
   "execution_count": 9,
   "id": "3654a8d3",
   "metadata": {},
   "outputs": [],
   "source": [
    "color_func_new2(c_val)"
   ]
  },
  {
   "cell_type": "code",
   "execution_count": null,
   "id": "fc21e0e2",
   "metadata": {},
   "outputs": [],
   "source": []
  },
  {
   "cell_type": "code",
   "execution_count": 10,
   "id": "73e167fd",
   "metadata": {},
   "outputs": [],
   "source": [
    "sleep(0.5)"
   ]
  },
  {
   "cell_type": "code",
   "execution_count": 11,
   "id": "be31b4b2",
   "metadata": {},
   "outputs": [],
   "source": [
    "c_val=\"121212\""
   ]
  },
  {
   "cell_type": "code",
   "execution_count": 12,
   "id": "6f362e2e",
   "metadata": {},
   "outputs": [],
   "source": [
    "color_func_new1(c_val)"
   ]
  },
  {
   "cell_type": "code",
   "execution_count": 13,
   "id": "8c2d2c4e",
   "metadata": {},
   "outputs": [],
   "source": [
    "color_func_new2(c_val)"
   ]
  },
  {
   "cell_type": "code",
   "execution_count": 14,
   "id": "fad90262",
   "metadata": {},
   "outputs": [],
   "source": [
    "sleep(0.5)"
   ]
  },
  {
   "cell_type": "code",
   "execution_count": 15,
   "id": "fea6a646",
   "metadata": {},
   "outputs": [],
   "source": [
    "c_val=\"abfa23\""
   ]
  },
  {
   "cell_type": "code",
   "execution_count": 16,
   "id": "5e31d5dd",
   "metadata": {},
   "outputs": [],
   "source": [
    "color_func_new1(c_val)"
   ]
  },
  {
   "cell_type": "code",
   "execution_count": 17,
   "id": "4f318b81",
   "metadata": {},
   "outputs": [],
   "source": [
    "color_func_new2(c_val)"
   ]
  },
  {
   "cell_type": "code",
   "execution_count": 18,
   "id": "9e150f82",
   "metadata": {},
   "outputs": [],
   "source": [
    "sleep(0.5)"
   ]
  },
  {
   "cell_type": "code",
   "execution_count": 19,
   "id": "2cfce33a",
   "metadata": {},
   "outputs": [],
   "source": [
    "sleep(1.5)"
   ]
  },
  {
   "cell_type": "code",
   "execution_count": 20,
   "id": "2b884e85",
   "metadata": {},
   "outputs": [],
   "source": [
    "c_val=\"910019\""
   ]
  },
  {
   "cell_type": "code",
   "execution_count": 21,
   "id": "6df71968",
   "metadata": {},
   "outputs": [],
   "source": [
    "color_func_new1(c_val)"
   ]
  },
  {
   "cell_type": "code",
   "execution_count": 22,
   "id": "5c905c1e",
   "metadata": {},
   "outputs": [],
   "source": [
    "color_func_new2(c_val)"
   ]
  },
  {
   "cell_type": "code",
   "execution_count": 23,
   "id": "8e72400e",
   "metadata": {},
   "outputs": [],
   "source": [
    "sleep(0.5)"
   ]
  },
  {
   "cell_type": "code",
   "execution_count": 24,
   "id": "40e84459",
   "metadata": {},
   "outputs": [],
   "source": [
    "c_val=\"630036\""
   ]
  },
  {
   "cell_type": "code",
   "execution_count": 25,
   "id": "f753766f",
   "metadata": {},
   "outputs": [],
   "source": [
    "color_func_new1(c_val)"
   ]
  },
  {
   "cell_type": "code",
   "execution_count": 26,
   "id": "26823e0a",
   "metadata": {},
   "outputs": [],
   "source": [
    "color_func_new2(c_val)"
   ]
  },
  {
   "cell_type": "code",
   "execution_count": 27,
   "id": "7dfd2248",
   "metadata": {},
   "outputs": [],
   "source": [
    "sleep(0.5)"
   ]
  },
  {
   "cell_type": "code",
   "execution_count": null,
   "id": "81f78c49",
   "metadata": {},
   "outputs": [],
   "source": []
  },
  {
   "cell_type": "code",
   "execution_count": null,
   "id": "46831bdc",
   "metadata": {},
   "outputs": [],
   "source": []
  },
  {
   "cell_type": "code",
   "execution_count": null,
   "id": "fbd67980",
   "metadata": {},
   "outputs": [],
   "source": []
  },
  {
   "cell_type": "code",
   "execution_count": null,
   "id": "d73ff655",
   "metadata": {},
   "outputs": [],
   "source": []
  }
 ],
 "metadata": {
  "kernelspec": {
   "display_name": "Python 3 (ipykernel)",
   "language": "python",
   "name": "python3"
  },
  "language_info": {
   "codemirror_mode": {
    "name": "ipython",
    "version": 3
   },
   "file_extension": ".py",
   "mimetype": "text/x-python",
   "name": "python",
   "nbconvert_exporter": "python",
   "pygments_lexer": "ipython3",
   "version": "3.10.4"
  }
 },
 "nbformat": 4,
 "nbformat_minor": 5
}

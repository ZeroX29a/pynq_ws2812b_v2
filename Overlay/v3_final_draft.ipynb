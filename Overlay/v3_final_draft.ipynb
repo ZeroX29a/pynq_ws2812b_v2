{
 "cells": [
  {
   "cell_type": "code",
   "execution_count": 1,
   "id": "4b7a21c3",
   "metadata": {},
   "outputs": [
    {
     "data": {
      "application/javascript": "\ntry {\nrequire(['notebook/js/codecell'], function(codecell) {\n  codecell.CodeCell.options_default.highlight_modes[\n      'magic_text/x-csrc'] = {'reg':[/^%%microblaze/]};\n  Jupyter.notebook.events.one('kernel_ready.Kernel', function(){\n      Jupyter.notebook.get_cells().map(function(cell){\n          if (cell.cell_type == 'code'){ cell.auto_highlight(); } }) ;\n  });\n});\n} catch (e) {};\n"
     },
     "metadata": {},
     "output_type": "display_data"
    },
    {
     "data": {
      "application/javascript": "\ntry {\nrequire(['notebook/js/codecell'], function(codecell) {\n  codecell.CodeCell.options_default.highlight_modes[\n      'magic_text/x-csrc'] = {'reg':[/^%%pybind11/]};\n  Jupyter.notebook.events.one('kernel_ready.Kernel', function(){\n      Jupyter.notebook.get_cells().map(function(cell){\n          if (cell.cell_type == 'code'){ cell.auto_highlight(); } }) ;\n  });\n});\n} catch (e) {};\n"
     },
     "metadata": {},
     "output_type": "display_data"
    }
   ],
   "source": [
    "from pynq import Overlay\n",
    "from pynq import GPIO\n",
    "overlay = Overlay(\"./npxl_v3.bit\") # //path/to/the/binary/file"
   ]
  },
  {
   "cell_type": "code",
   "execution_count": 2,
   "id": "72607940",
   "metadata": {},
   "outputs": [],
   "source": [
    "##Initializing the GPIOs\n",
    "\n",
    "\n",
    "#Toggling the refresh_led to refresh the process\n",
    "\n",
    "refresh_led=GPIO(GPIO.get_gpio_pin(24),'out')\n",
    "def refresh():\n",
    "    refresh_led.write(1)\n",
    "    refresh_led.write(0)\n",
    "    refresh_led.write(1)\n",
    "\n",
    "\n",
    "red_g = [0] * 8\n",
    "blue_g = [0] * 8\n",
    "green_g = [0] * 8\n",
    "\n",
    "# for i in range(24):\n",
    "#     color[i]=GPIO(GPIO.get_gpio_pin(i),'out')\n",
    "\n",
    "for i in range(8):\n",
    "    green_g[i] = GPIO(GPIO.get_gpio_pin(i),'out')\n",
    "    red_g[i] = GPIO(GPIO.get_gpio_pin(i+8),'out')\n",
    "    blue_g[i] = GPIO(GPIO.get_gpio_pin(i+16),'out')\n"
   ]
  },
  {
   "cell_type": "code",
   "execution_count": 3,
   "id": "40c296ed",
   "metadata": {},
   "outputs": [],
   "source": [
    "# ##Helper Functions\n",
    "\n",
    "# def color_func(hex):\n",
    "\n",
    "# #     hex_n = bin(int(hex, 16))\n",
    "# #     hex_n = hex_n[2:]\n",
    "#     hex_n=format(int(hex, 16), \"024b\")\n",
    "\n",
    "#     index = [*range(24)]\n",
    "\n",
    "#     if len(hex_n)!=24:\n",
    "#         print(\"Color Input Format : XXXXXX Hex value\")\n",
    "#         return\n",
    "#     else:\n",
    "#         for hex_f,index_f in zip(hex_n, index):\n",
    "#             color[index_f].write(int(hex_f))\n",
    "#             refresh()\n",
    "#         return\n",
    "\n",
    "\n",
    "def color_func_new1(hex):\n",
    "\n",
    "    if len(hex)!=6:\n",
    "        print(\"Color Input Format : XXXXXX Hex value\")\n",
    "        return\n",
    "    else:\n",
    "        hex_n=hex\n",
    "        red_b=format(int(hex_n[:2], 16), \"08b\")\n",
    "        blue_b=format(int(hex_n[2:4], 16), \"08b\")\n",
    "        green_b=format(int(hex_n[4:6], 16), \"08b\")\n",
    "\n",
    "        index = [*range(8)]\n",
    "\n",
    "        for r,g,b,index_f in zip(red_b,blue_b,green_b,index):\n",
    "            red_g[index_f].write(int(r))\n",
    "            green_g[index_f].write(int(g))\n",
    "            blue_g[index_f].write(int(b))\n",
    "        refresh()\n",
    "        return\n",
    "\n",
    "\n",
    "def color_func_new2(hex):\n",
    "\n",
    "    if len(hex)!=6:\n",
    "        print(\"Color Input Format : XXXXXX Hex value\")\n",
    "        return\n",
    "    else:\n",
    "        hex_n=hex[::-1]\n",
    "        green_b=format(int(hex_n[:2], 16), \"08b\")\n",
    "        blue_b=format(int(hex_n[2:4], 16), \"08b\")\n",
    "        red_b=format(int(hex_n[4:6], 16), \"08b\")\n",
    "\n",
    "        index = [*range(8)]\n",
    "\n",
    "        for r,g,b,index_f in zip(red_b,blue_b,green_b,index):\n",
    "            red_g[index_f].write(int(r))\n",
    "            green_g[index_f].write(int(g))\n",
    "            blue_g[index_f].write(int(b))\n",
    "        refresh()\n",
    "        return\n",
    "\n"
   ]
  },
  {
   "cell_type": "code",
   "execution_count": null,
   "id": "94b43904",
   "metadata": {},
   "outputs": [],
   "source": []
  },
  {
   "cell_type": "code",
   "execution_count": null,
   "id": "20d14c5a",
   "metadata": {},
   "outputs": [],
   "source": []
  },
  {
   "cell_type": "code",
   "execution_count": 8,
   "id": "26472ad9",
   "metadata": {},
   "outputs": [],
   "source": [
    "c_val=\"01011\""
   ]
  },
  {
   "cell_type": "code",
   "execution_count": 13,
   "id": "a6e14a16",
   "metadata": {},
   "outputs": [],
   "source": [
    "color_func_new1(c_val)"
   ]
  },
  {
   "cell_type": "code",
   "execution_count": 14,
   "id": "ec4cad4d",
   "metadata": {},
   "outputs": [],
   "source": [
    "color_func_new2(c_val)"
   ]
  },
  {
   "cell_type": "code",
   "execution_count": 15,
   "id": "36565359",
   "metadata": {},
   "outputs": [],
   "source": [
    "c_val=\"f0f0f0\""
   ]
  },
  {
   "cell_type": "code",
   "execution_count": 16,
   "id": "632fd75b",
   "metadata": {},
   "outputs": [],
   "source": [
    "color_func_new2(c_val)"
   ]
  },
  {
   "cell_type": "code",
   "execution_count": 17,
   "id": "9e5b7abb",
   "metadata": {},
   "outputs": [],
   "source": [
    "refresh()"
   ]
  },
  {
   "cell_type": "code",
   "execution_count": null,
   "id": "dfd88473",
   "metadata": {},
   "outputs": [],
   "source": []
  }
 ],
 "metadata": {
  "kernelspec": {
   "display_name": "Python 3 (ipykernel)",
   "language": "python",
   "name": "python3"
  },
  "language_info": {
   "codemirror_mode": {
    "name": "ipython",
    "version": 3
   },
   "file_extension": ".py",
   "mimetype": "text/x-python",
   "name": "python",
   "nbconvert_exporter": "python",
   "pygments_lexer": "ipython3",
   "version": "3.10.4"
  }
 },
 "nbformat": 4,
 "nbformat_minor": 5
}

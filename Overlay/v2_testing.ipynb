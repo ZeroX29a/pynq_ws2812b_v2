{
 "cells": [
  {
   "cell_type": "code",
   "execution_count": 58,
   "id": "1d993aee",
   "metadata": {},
   "outputs": [
    {
     "data": {
      "application/javascript": [
       "\n",
       "try {\n",
       "require(['notebook/js/codecell'], function(codecell) {\n",
       "  codecell.CodeCell.options_default.highlight_modes[\n",
       "      'magic_text/x-csrc'] = {'reg':[/^%%microblaze/]};\n",
       "  Jupyter.notebook.events.one('kernel_ready.Kernel', function(){\n",
       "      Jupyter.notebook.get_cells().map(function(cell){\n",
       "          if (cell.cell_type == 'code'){ cell.auto_highlight(); } }) ;\n",
       "  });\n",
       "});\n",
       "} catch (e) {};\n"
      ]
     },
     "metadata": {},
     "output_type": "display_data"
    },
    {
     "data": {
      "application/javascript": [
       "\n",
       "try {\n",
       "require(['notebook/js/codecell'], function(codecell) {\n",
       "  codecell.CodeCell.options_default.highlight_modes[\n",
       "      'magic_text/x-csrc'] = {'reg':[/^%%pybind11/]};\n",
       "  Jupyter.notebook.events.one('kernel_ready.Kernel', function(){\n",
       "      Jupyter.notebook.get_cells().map(function(cell){\n",
       "          if (cell.cell_type == 'code'){ cell.auto_highlight(); } }) ;\n",
       "  });\n",
       "});\n",
       "} catch (e) {};\n"
      ]
     },
     "metadata": {},
     "output_type": "display_data"
    }
   ],
   "source": [
    "from pynq import Overlay\n",
    "from pynq import GPIO\n",
    "overlay = Overlay(\"./npxl.bit\")"
   ]
  },
  {
   "cell_type": "code",
   "execution_count": 59,
   "id": "74ae3816",
   "metadata": {},
   "outputs": [],
   "source": [
    "refresh_led=GPIO(GPIO.get_gpio_pin(24),'out')\n",
    "def refresh():\n",
    "    refresh_led.write(1)\n",
    "    refresh_led.write(0)\n",
    "    refresh_led.write(1)"
   ]
  },
  {
   "cell_type": "code",
   "execution_count": 60,
   "id": "52fb2c8f",
   "metadata": {},
   "outputs": [],
   "source": [
    "color = [0]*24"
   ]
  },
  {
   "cell_type": "code",
   "execution_count": 61,
   "id": "b1d27d5e",
   "metadata": {},
   "outputs": [],
   "source": [
    "for i in range(24):\n",
    "    color[i]=GPIO(GPIO.get_gpio_pin(i),'out')"
   ]
  },
  {
   "cell_type": "code",
   "execution_count": 139,
   "id": "afca391f",
   "metadata": {},
   "outputs": [],
   "source": [
    "red_g = [0] * 8\n",
    "blue_g = [0] * 8\n",
    "green_g = [0] * 8\n",
    "\n",
    "for i in range(8):\n",
    "    green_g[i]=GPIO(GPIO.get_gpio_pin(i),'out')\n",
    "    red_g[i]=GPIO(GPIO.get_gpio_pin(i+8),'out')\n",
    "    blue_g[i]=GPIO(GPIO.get_gpio_pin(i+16),'out')"
   ]
  },
  {
   "cell_type": "code",
   "execution_count": null,
   "id": "f71a3ce0",
   "metadata": {},
   "outputs": [],
   "source": [
    "def color_func(hex):\n",
    "    \n",
    "#     hex_n = bin(int(hex, 16))\n",
    "#     hex_n = hex_n[2:]\n",
    "    hex_n=format(int(hex, 16), \"024b\")\n",
    "    \n",
    "    index = [*range(24)]\n",
    "    \n",
    "    for hex_f,index_f in zip(hex_n, index):\n",
    "        color[index_f].write(int(hex_f))\n",
    "        refresh()"
   ]
  },
  {
   "cell_type": "code",
   "execution_count": 106,
   "id": "4073b184",
   "metadata": {},
   "outputs": [],
   "source": [
    "def color_func(hex):\n",
    "    \n",
    "#     hex_n = bin(int(hex, 16))\n",
    "#     hex_n = hex_n[2:]\n",
    "    hex_n=format(int(hex, 16), \"024b\")\n",
    "    \n",
    "    index = [*range(24)]\n",
    "    \n",
    "    if len(hex_n)!=24:\n",
    "        print(\"Input Format : XXXXXX Hex value\")\n",
    "        return\n",
    "    else:\n",
    "        for hex_f,index_f in zip(hex_n, index):\n",
    "            color[index_f].write(int(hex_f))\n",
    "            refresh()\n"
   ]
  },
  {
   "cell_type": "code",
   "execution_count": 107,
   "id": "0be20ae9",
   "metadata": {},
   "outputs": [],
   "source": [
    "color_func(\"AB\")"
   ]
  },
  {
   "cell_type": "code",
   "execution_count": 129,
   "id": "dff311aa",
   "metadata": {},
   "outputs": [],
   "source": [
    "c_val=\"010000\""
   ]
  },
  {
   "cell_type": "code",
   "execution_count": 109,
   "id": "5dae1be1",
   "metadata": {},
   "outputs": [],
   "source": [
    "color_func(c_val)"
   ]
  },
  {
   "cell_type": "code",
   "execution_count": null,
   "id": "33ad8780",
   "metadata": {},
   "outputs": [],
   "source": [
    "def func_t(hex):\n",
    "    hex_n=format(int(hex, 16), \"024b\")    \n",
    "    red=hex_n[:8]\n",
    "    blue=hex_n[8:16]\n",
    "    green=hex_n[16:24]\n",
    "    print(red,blue,green)\n"
   ]
  },
  {
   "cell_type": "code",
   "execution_count": 144,
   "id": "6be5a4c8",
   "metadata": {},
   "outputs": [],
   "source": [
    "def color_func_t(hex):\n",
    "    if len(hex)!=6:\n",
    "        print(\"Input Format : XXXXXX Hex value\")\n",
    "        return\n",
    "    else:\n",
    "        red=format(int(hex[:2], 16), \"08b\")\n",
    "        blue=format(int(hex[2:4], 16), \"08b\")\n",
    "        green=format(int(hex[4:6], 16), \"08b\")\n",
    "        print(red,blue,green)"
   ]
  },
  {
   "cell_type": "code",
   "execution_count": 145,
   "id": "92efc9f1",
   "metadata": {},
   "outputs": [
    {
     "name": "stdout",
     "output_type": "stream",
     "text": [
      "00000001 00000000 00000000\n"
     ]
    }
   ],
   "source": [
    "func_t(c_val)"
   ]
  },
  {
   "cell_type": "code",
   "execution_count": 140,
   "id": "63654942",
   "metadata": {},
   "outputs": [],
   "source": [
    "def color_func_new(hex):\n",
    "    \n",
    "    hex_n=format(int(hex, 16), \"024b\")    \n",
    "    red_b=hex_n[:8]\n",
    "    blue_b=hex_n[8:16]\n",
    "    green_b=hex_n[16:24]\n",
    "    \n",
    "    index = [*range(8)]\n",
    "    \n",
    "    for r,g,b,index_f in zip(red_b,blue_b,green_b,index):\n",
    "        red_g[index_f].write(int(r))\n",
    "        green_g[index_f].write(int(g))\n",
    "        blue_g[index_f].write(int(b))\n",
    "        refresh()"
   ]
  },
  {
   "cell_type": "code",
   "execution_count": 146,
   "id": "15836ac5",
   "metadata": {},
   "outputs": [
    {
     "name": "stdout",
     "output_type": "stream",
     "text": [
      "Input Format : XXXXXX Hex value\n"
     ]
    }
   ],
   "source": [
    "color_func_t(\"00\")"
   ]
  },
  {
   "cell_type": "code",
   "execution_count": 169,
   "id": "ffacb545",
   "metadata": {},
   "outputs": [],
   "source": [
    "def color_func_new1(hex):\n",
    "    \n",
    "    if len(hex)!=6:\n",
    "        print(\"Input Format : XXXXXX Hex value\")\n",
    "        return\n",
    "    else:\n",
    "        hex_n=hex\n",
    "        red_b=format(int(hex_n[:2], 16), \"08b\")\n",
    "        blue_b=format(int(hex_n[2:4], 16), \"08b\")\n",
    "        green_b=format(int(hex_n[4:6], 16), \"08b\")\n",
    "    \n",
    "        index = [*range(8)]\n",
    "\n",
    "        for r,g,b,index_f in zip(red_b,blue_b,green_b,index):\n",
    "            red_g[index_f].write(int(r))\n",
    "            green_g[index_f].write(int(g))\n",
    "            blue_g[index_f].write(int(b))\n",
    "            refresh()\n",
    "        return"
   ]
  },
  {
   "cell_type": "code",
   "execution_count": 170,
   "id": "829eb6bb",
   "metadata": {},
   "outputs": [],
   "source": [
    "def color_func_new2(hex):\n",
    "    \n",
    "    if len(hex)!=6:\n",
    "        print(\"Input Format : XXXXXX Hex value\")\n",
    "        return\n",
    "    else:\n",
    "        hex_n=hex[::-1]\n",
    "        green_b=format(int(hex_n[:2], 16), \"08b\")\n",
    "        blue_b=format(int(hex_n[2:4], 16), \"08b\")\n",
    "        red_b=format(int(hex_n[4:6], 16), \"08b\")\n",
    "    \n",
    "        index = [*range(8)]\n",
    "    \n",
    "        for r,g,b,index_f in zip(red_b,blue_b,green_b,index):\n",
    "            red_g[index_f].write(int(r))\n",
    "            green_g[index_f].write(int(g))\n",
    "            blue_g[index_f].write(int(b))\n",
    "            refresh()\n",
    "        return\n",
    "        "
   ]
  },
  {
   "cell_type": "code",
   "execution_count": 171,
   "id": "75c71549",
   "metadata": {},
   "outputs": [],
   "source": [
    "c_val=\"010101\""
   ]
  },
  {
   "cell_type": "code",
   "execution_count": 172,
   "id": "13bac712",
   "metadata": {},
   "outputs": [],
   "source": [
    "color_func_new1(c_val)"
   ]
  },
  {
   "cell_type": "code",
   "execution_count": 173,
   "id": "76c79035",
   "metadata": {},
   "outputs": [],
   "source": [
    "color_func_new2(c_val)"
   ]
  },
  {
   "cell_type": "code",
   "execution_count": null,
   "id": "bf1f7f01",
   "metadata": {},
   "outputs": [],
   "source": []
  }
 ],
 "metadata": {
  "kernelspec": {
   "display_name": "Python 3 (ipykernel)",
   "language": "python",
   "name": "python3"
  },
  "language_info": {
   "codemirror_mode": {
    "name": "ipython",
    "version": 3
   },
   "file_extension": ".py",
   "mimetype": "text/x-python",
   "name": "python",
   "nbconvert_exporter": "python",
   "pygments_lexer": "ipython3",
   "version": "3.10.4"
  }
 },
 "nbformat": 4,
 "nbformat_minor": 5
}

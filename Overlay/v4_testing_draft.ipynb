{
 "cells": [
  {
   "cell_type": "code",
   "execution_count": 1,
   "id": "4b7a21c3",
   "metadata": {},
   "outputs": [
    {
     "data": {
      "application/javascript": [
       "\n",
       "try {\n",
       "require(['notebook/js/codecell'], function(codecell) {\n",
       "  codecell.CodeCell.options_default.highlight_modes[\n",
       "      'magic_text/x-csrc'] = {'reg':[/^%%microblaze/]};\n",
       "  Jupyter.notebook.events.one('kernel_ready.Kernel', function(){\n",
       "      Jupyter.notebook.get_cells().map(function(cell){\n",
       "          if (cell.cell_type == 'code'){ cell.auto_highlight(); } }) ;\n",
       "  });\n",
       "});\n",
       "} catch (e) {};\n"
      ]
     },
     "metadata": {},
     "output_type": "display_data"
    },
    {
     "data": {
      "application/javascript": [
       "\n",
       "try {\n",
       "require(['notebook/js/codecell'], function(codecell) {\n",
       "  codecell.CodeCell.options_default.highlight_modes[\n",
       "      'magic_text/x-csrc'] = {'reg':[/^%%pybind11/]};\n",
       "  Jupyter.notebook.events.one('kernel_ready.Kernel', function(){\n",
       "      Jupyter.notebook.get_cells().map(function(cell){\n",
       "          if (cell.cell_type == 'code'){ cell.auto_highlight(); } }) ;\n",
       "  });\n",
       "});\n",
       "} catch (e) {};\n"
      ]
     },
     "metadata": {},
     "output_type": "display_data"
    }
   ],
   "source": [
    "from pynq import Overlay\n",
    "from pynq import GPIO\n",
    "overlay = Overlay(\"./npxl_v4.bit\") # //path/to/the/binary/file"
   ]
  },
  {
   "cell_type": "code",
   "execution_count": 2,
   "id": "72607940",
   "metadata": {},
   "outputs": [],
   "source": [
    "##Initializing the GPIOs\n",
    "\n",
    "\n",
    "#Toggling the refresh_led to refresh the process\n",
    "\n",
    "refresh_led=GPIO(GPIO.get_gpio_pin(11),'out')\n",
    "def refresh():\n",
    "    refresh_led.write(1)\n",
    "    refresh_led.write(0)\n",
    "    refresh_led.write(1)\n",
    "#X_Gpio_Enable  Naming scheme for pins\n",
    "\n",
    "data_g = [0] * 8\n",
    "\n",
    "\n",
    "green_g_e = GPIO(GPIO.get_gpio_pin(9),'out')\n",
    "red_g_e = GPIO(GPIO.get_gpio_pin(8),'out')\n",
    "blue_g_e = GPIO(GPIO.get_gpio_pin(10),'out')\n",
    "\n",
    "\n",
    "def red_read():\n",
    "    red_g_e.write(1)\n",
    "    red_g_e.write(0)\n",
    "    red_g_e.write(1)\n",
    "    red_g_e.write(0)\n",
    "\n",
    "    \n",
    "    \n",
    "    \n",
    "def green_read():\n",
    "    green_g_e.write(1)\n",
    "    green_g_e.write(0)\n",
    "    green_g_e.write(1)\n",
    "    green_g_e.write(0)\n",
    "    \n",
    "    \n",
    "def blue_read():\n",
    "    blue_g_e.write(1)\n",
    "    blue_g_e.write(0)\n",
    "    blue_g_e.write(1)\n",
    "    blue_g_e.write(0)\n",
    "\n",
    "    \n",
    "    \n",
    "\n",
    "# for i in range(24):\n",
    "#     color[i]=GPIO(GPIO.get_gpio_pin(i),'out')\n",
    "\n",
    "for i in range(8):\n",
    "    data_g[i] = GPIO(GPIO.get_gpio_pin(i),'out')\n",
    "\n"
   ]
  },
  {
   "cell_type": "code",
   "execution_count": null,
   "id": "1e8bed31",
   "metadata": {},
   "outputs": [],
   "source": []
  },
  {
   "cell_type": "code",
   "execution_count": null,
   "id": "038d0484",
   "metadata": {},
   "outputs": [],
   "source": []
  },
  {
   "cell_type": "code",
   "execution_count": 3,
   "id": "fb621655",
   "metadata": {},
   "outputs": [
    {
     "name": "stdout",
     "output_type": "stream",
     "text": [
      "red\n"
     ]
    }
   ],
   "source": [
    "#Testing Area(1)\n",
    "\n",
    "f=1\n",
    "def r_t():\n",
    "    print(\"red\")\n",
    "    \n",
    "    \n",
    "def g_t():\n",
    "    print(\"green\")\n",
    "\n",
    "    \n",
    "def b_t():\n",
    "    print(\"blue\")\n",
    "    \n",
    "\n",
    "r_t() if f==1 else g_t() if f==2 else b_t()"
   ]
  },
  {
   "cell_type": "code",
   "execution_count": 4,
   "id": "da65515c",
   "metadata": {},
   "outputs": [
    {
     "name": "stdout",
     "output_type": "stream",
     "text": [
      "green\n"
     ]
    }
   ],
   "source": [
    "f+=1\n",
    "r_t() if f==1 else g_t() if f==2 else b_t()"
   ]
  },
  {
   "cell_type": "code",
   "execution_count": 5,
   "id": "d6f70e92",
   "metadata": {},
   "outputs": [
    {
     "name": "stdout",
     "output_type": "stream",
     "text": [
      "blue\n"
     ]
    }
   ],
   "source": [
    "f=3\n",
    "r_t() if f==1 else g_t() if f==2 else b_t()"
   ]
  },
  {
   "cell_type": "code",
   "execution_count": null,
   "id": "79f594d8",
   "metadata": {},
   "outputs": [],
   "source": []
  },
  {
   "cell_type": "code",
   "execution_count": null,
   "id": "a7f3b769",
   "metadata": {},
   "outputs": [],
   "source": []
  },
  {
   "cell_type": "code",
   "execution_count": null,
   "id": "2699091c",
   "metadata": {},
   "outputs": [],
   "source": []
  },
  {
   "cell_type": "code",
   "execution_count": 6,
   "id": "40c296ed",
   "metadata": {},
   "outputs": [],
   "source": [
    "# ##Helper Functions\n",
    "# def color_func(hex):\n",
    "\n",
    "# #     hex_n = bin(int(hex, 16))\n",
    "# #     hex_n = hex_n[2:]\n",
    "#     hex_n=format(int(hex, 16), \"024b\")\n",
    "\n",
    "#     index = [*range(24)]\n",
    "\n",
    "#     if len(hex_n)!=24:\n",
    "#         print(\"Color Input Format : XXXXXX Hex value\")\n",
    "#         return\n",
    "#     else:\n",
    "#         for hex_f,index_f in zip(hex_n, index):\n",
    "#             color[index_f].write(int(hex_f))\n",
    "#             refresh()\n",
    "#         return\n",
    "\n",
    "################################################\n",
    "\n",
    "\n",
    "#The WS2812b Accepts control signal in the form of G R B Lighting format\n",
    "\n",
    "\n",
    "###################################################\n",
    "def color_func_new1(hex):         # hex value x'01=b'0000 0001\n",
    "\n",
    "    if len(hex)!=6:\n",
    "        print(\"Color Input Format : XXXXXX Hex value\")\n",
    "        return\n",
    "    else:\n",
    "        hex_n=hex\n",
    "        red_b=format(int(hex_n[:2], 16), \"08b\")\n",
    "        green_b=format(int(hex_n[2:4], 16), \"08b\")\n",
    "        blue_b=format(int(hex_n[4:6], 16), \"08b\")\n",
    "        \n",
    "        \n",
    "        \n",
    "        rgb_flag=0\n",
    "        index = [*range(8)]\n",
    "\n",
    "        \n",
    "        \n",
    "        \n",
    "#         for r,g,b,index_f in zip(red_b,blue_b,green_b,index):\n",
    "#             red_g[index_f].write(int(r))\n",
    "#             green_g[index_f].write(int(g))\n",
    "#             blue_g[index_f].write(int(b))\n",
    "\n",
    "\n",
    "        for rgb in (red_b,green_b,blue_b):\n",
    "            rgb_flag+=1\n",
    "            for val,index_v in zip(rgb,index):\n",
    "                data_g[index_v].write(int(val)) \n",
    "                print(rgb_flag,val,index_v)\n",
    "\n",
    "            green_read() if rgb_flag==1 else red_read() if rgb_flag==2 else blue_read()      #Testing Area(1)\n",
    "            \n",
    "            \n",
    "        rgb_flag=0    \n",
    "        refresh()\n",
    "        return\n",
    "\n",
    "\n",
    "def color_func_new2(hex):      # hex value  x'01=b'0001 0000\n",
    "\n",
    "    if len(hex)!=6:\n",
    "        print(\"Color Input Format : XXXXXX Hex value\")\n",
    "        return\n",
    "    else:\n",
    "        hex_n=hex[::-1]\n",
    "        blue_b=format(int(hex_n[:2], 16), \"08b\")\n",
    "        green_b=format(int(hex_n[2:4], 16), \"08b\")\n",
    "        red_b=format(int(hex_n[4:6], 16), \"08b\")\n",
    "\n",
    "        rgb_flag=0\n",
    "        index = [*range(8)]\n",
    "\n",
    "        \n",
    "        \n",
    "        \n",
    "#         for r,g,b,index_f in zip(red_b,blue_b,green_b,index):\n",
    "#             red_g[index_f].write(int(r))\n",
    "#             green_g[index_f].write(int(g))\n",
    "#             blue_g[index_f].write(int(b))\n",
    "\n",
    "\n",
    "        for rgb in (red_b,green_b,blue_b):\n",
    "            rgb_flag+=1\n",
    "            \n",
    "            for val,index_v in zip(rgb,index):\n",
    "                data_g[index_v].write(int(val))\n",
    "                print(rgb_flag,val,index_v)\n",
    "\n",
    "            green_read() if rgb_flag==1 else red_read() if rgb_flag==2 else blue_read()      #Testing Area(1)\n",
    "            \n",
    "            \n",
    "        rgb_flag=0    \n",
    "        refresh()\n",
    "        return\n"
   ]
  },
  {
   "cell_type": "code",
   "execution_count": null,
   "id": "94b43904",
   "metadata": {},
   "outputs": [],
   "source": []
  },
  {
   "cell_type": "code",
   "execution_count": null,
   "id": "20d14c5a",
   "metadata": {},
   "outputs": [],
   "source": []
  },
  {
   "cell_type": "code",
   "execution_count": 7,
   "id": "26472ad9",
   "metadata": {},
   "outputs": [],
   "source": [
    "c_val=\"01011\""
   ]
  },
  {
   "cell_type": "code",
   "execution_count": 8,
   "id": "a6e14a16",
   "metadata": {},
   "outputs": [
    {
     "name": "stdout",
     "output_type": "stream",
     "text": [
      "Color Input Format : XXXXXX Hex value\n"
     ]
    }
   ],
   "source": [
    "color_func_new1(c_val)"
   ]
  },
  {
   "cell_type": "code",
   "execution_count": 9,
   "id": "ec4cad4d",
   "metadata": {},
   "outputs": [
    {
     "name": "stdout",
     "output_type": "stream",
     "text": [
      "Color Input Format : XXXXXX Hex value\n"
     ]
    }
   ],
   "source": [
    "color_func_new2(c_val)"
   ]
  },
  {
   "cell_type": "code",
   "execution_count": 10,
   "id": "36565359",
   "metadata": {},
   "outputs": [],
   "source": [
    "c_val=\"00ff00\""
   ]
  },
  {
   "cell_type": "code",
   "execution_count": 11,
   "id": "632fd75b",
   "metadata": {},
   "outputs": [
    {
     "name": "stdout",
     "output_type": "stream",
     "text": [
      "1 0 0\n",
      "1 0 1\n",
      "1 0 2\n",
      "1 0 3\n",
      "1 0 4\n",
      "1 0 5\n",
      "1 0 6\n",
      "1 0 7\n",
      "2 1 0\n",
      "2 1 1\n",
      "2 1 2\n",
      "2 1 3\n",
      "2 1 4\n",
      "2 1 5\n",
      "2 1 6\n",
      "2 1 7\n",
      "3 0 0\n",
      "3 0 1\n",
      "3 0 2\n",
      "3 0 3\n",
      "3 0 4\n",
      "3 0 5\n",
      "3 0 6\n",
      "3 0 7\n"
     ]
    }
   ],
   "source": [
    "color_func_new2(c_val)"
   ]
  },
  {
   "cell_type": "code",
   "execution_count": 12,
   "id": "9e5b7abb",
   "metadata": {},
   "outputs": [
    {
     "name": "stdout",
     "output_type": "stream",
     "text": [
      "1 0 0\n",
      "1 0 1\n",
      "1 0 2\n",
      "1 0 3\n",
      "1 0 4\n",
      "1 0 5\n",
      "1 0 6\n",
      "1 0 7\n",
      "2 1 0\n",
      "2 1 1\n",
      "2 1 2\n",
      "2 1 3\n",
      "2 1 4\n",
      "2 1 5\n",
      "2 1 6\n",
      "2 1 7\n",
      "3 0 0\n",
      "3 0 1\n",
      "3 0 2\n",
      "3 0 3\n",
      "3 0 4\n",
      "3 0 5\n",
      "3 0 6\n",
      "3 0 7\n"
     ]
    }
   ],
   "source": [
    "color_func_new1(c_val)"
   ]
  },
  {
   "cell_type": "code",
   "execution_count": null,
   "id": "dfd88473",
   "metadata": {},
   "outputs": [],
   "source": []
  },
  {
   "cell_type": "code",
   "execution_count": null,
   "id": "099262bf",
   "metadata": {},
   "outputs": [],
   "source": []
  },
  {
   "cell_type": "code",
   "execution_count": null,
   "id": "f8bd81d0",
   "metadata": {},
   "outputs": [],
   "source": []
  },
  {
   "cell_type": "code",
   "execution_count": 13,
   "id": "6876b98a",
   "metadata": {},
   "outputs": [],
   "source": [
    "index = [*range(8)]\n",
    "\n",
    "\n",
    "for val,index_v in zip(\"00000000\",index):\n",
    "    data_g[index_v].write(int(val))"
   ]
  },
  {
   "cell_type": "code",
   "execution_count": 14,
   "id": "546a4ae7",
   "metadata": {},
   "outputs": [],
   "source": [
    "index = [*range(8)]\n",
    "\n",
    "\n",
    "for val,index_v in zip(\"11111111\",index):\n",
    "    data_g[index_v].write(int(val))"
   ]
  },
  {
   "cell_type": "code",
   "execution_count": null,
   "id": "ee9f6b93",
   "metadata": {},
   "outputs": [],
   "source": []
  }
 ],
 "metadata": {
  "kernelspec": {
   "display_name": "Python 3 (ipykernel)",
   "language": "python",
   "name": "python3"
  },
  "language_info": {
   "codemirror_mode": {
    "name": "ipython",
    "version": 3
   },
   "file_extension": ".py",
   "mimetype": "text/x-python",
   "name": "python",
   "nbconvert_exporter": "python",
   "pygments_lexer": "ipython3",
   "version": "3.10.4"
  }
 },
 "nbformat": 4,
 "nbformat_minor": 5
}

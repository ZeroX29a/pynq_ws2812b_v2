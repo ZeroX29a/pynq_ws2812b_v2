{
 "cells": [
  {
   "cell_type": "code",
   "execution_count": 5,
   "id": "4e2b2914",
   "metadata": {},
   "outputs": [],
   "source": [
    "from pynq import Overlay\n",
    "from pynq import GPIO\n",
    "overlay = Overlay(\"./npxl.bit\")"
   ]
  },
  {
   "cell_type": "code",
   "execution_count": 7,
   "id": "74ed6994",
   "metadata": {},
   "outputs": [],
   "source": [
    "## Refreshh Function to Update the LEDs\n",
    "## only triggered by rising edge of refresh_led\n",
    "refresh_led=GPIO(GPIO.get_gpio_pin(24),'out')\n",
    "def refresh():\n",
    "    refresh_led.write(1)\n",
    "    refresh_led.write(0)\n",
    "    refresh_led.write(1)"
   ]
  },
  {
   "cell_type": "code",
   "execution_count": 17,
   "id": "b98bdee1",
   "metadata": {},
   "outputs": [],
   "source": [
    "red = [0] * 8\n",
    "blue = [0] * 8\n",
    "green = [0] * 8"
   ]
  },
  {
   "cell_type": "code",
   "execution_count": 18,
   "id": "d12726c4",
   "metadata": {},
   "outputs": [],
   "source": [
    "for i in range(8):\n",
    "    green[i]=GPIO(GPIO.get_gpio_pin(i),'out')\n",
    "    red[i]=GPIO(GPIO.get_gpio_pin(i+8),'out')\n",
    "    blue[i]=GPIO(GPIO.get_gpio_pin(i+16),'out')"
   ]
  },
  {
   "cell_type": "code",
   "execution_count": 19,
   "id": "2e884576",
   "metadata": {},
   "outputs": [],
   "source": [
    "##Simple Basic Function to Change the color\n",
    "\n",
    "for i in range(8):\n",
    "    red[i].write(1)\n",
    "    blue[i].write(1)\n",
    "    green[i].write(0)"
   ]
  },
  {
   "cell_type": "code",
   "execution_count": 20,
   "id": "4f5322c7",
   "metadata": {},
   "outputs": [],
   "source": [
    "refresh()"
   ]
  },
  {
   "cell_type": "code",
   "execution_count": 23,
   "id": "084a01c9",
   "metadata": {},
   "outputs": [],
   "source": [
    "red[6].write(0)"
   ]
  },
  {
   "cell_type": "code",
   "execution_count": 24,
   "id": "7590ff51",
   "metadata": {},
   "outputs": [],
   "source": [
    "refresh()"
   ]
  },
  {
   "cell_type": "code",
   "execution_count": null,
   "id": "117a102a",
   "metadata": {},
   "outputs": [],
   "source": []
  },
  {
   "cell_type": "code",
   "execution_count": null,
   "id": "b09999a1",
   "metadata": {},
   "outputs": [],
   "source": [
    "red"
   ]
  },
  {
   "cell_type": "code",
   "execution_count": null,
   "id": "71b79a31",
   "metadata": {},
   "outputs": [],
   "source": []
  }
 ],
 "metadata": {
  "kernelspec": {
   "display_name": "Python 3 (ipykernel)",
   "language": "python",
   "name": "python3"
  },
  "language_info": {
   "codemirror_mode": {
    "name": "ipython",
    "version": 3
   },
   "file_extension": ".py",
   "mimetype": "text/x-python",
   "name": "python",
   "nbconvert_exporter": "python",
   "pygments_lexer": "ipython3",
   "version": "3.10.4"
  }
 },
 "nbformat": 4,
 "nbformat_minor": 5
}
